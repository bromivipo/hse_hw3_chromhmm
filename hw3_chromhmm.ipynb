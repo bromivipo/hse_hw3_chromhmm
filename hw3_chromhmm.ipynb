{
  "nbformat": 4,
  "nbformat_minor": 0,
  "metadata": {
    "colab": {
      "provenance": []
    },
    "kernelspec": {
      "name": "python3",
      "display_name": "Python 3"
    },
    "language_info": {
      "name": "python"
    }
  },
  "cells": [
    {
      "cell_type": "markdown",
      "source": [
        "# Устанавливаем java и ChromHmm"
      ],
      "metadata": {
        "id": "vRciyzvPEDLD"
      }
    },
    {
      "cell_type": "code",
      "source": [
        "#!curl -O https://raw.githubusercontent.com/deepjavalibrary/d2l-java/master/tools/fix-colab-gpu.sh && bash fix-colab-gpu.sh"
      ],
      "metadata": {
        "id": "1O3GJ3Gys7Tm"
      },
      "execution_count": null,
      "outputs": []
    },
    {
      "cell_type": "code",
      "execution_count": null,
      "metadata": {
        "colab": {
          "base_uri": "https://localhost:8080/"
        },
        "id": "NxS1Mv5WquOV",
        "outputId": "75e2c972-00d3-4462-8a3f-95811f64a2d7"
      },
      "outputs": [
        {
          "output_type": "stream",
          "name": "stdout",
          "text": [
            "  % Total    % Received % Xferd  Average Speed   Time    Time     Time  Current\n",
            "                                 Dload  Upload   Total   Spent    Left  Speed\n",
            "100   520  100   520    0     0   1664      0 --:--:-- --:--:-- --:--:--  1666\n",
            "Update environment...\n",
            "Install Java...\n",
            "Install Jupyter java kernel...\n"
          ]
        }
      ],
      "source": [
        "!curl -O https://raw.githubusercontent.com/deepjavalibrary/d2l-java/master/tools/colab_build.sh && bash colab_build.sh"
      ]
    },
    {
      "cell_type": "code",
      "source": [
        "!java --list-modules | grep \"jdk.jshell\"\n"
      ],
      "metadata": {
        "colab": {
          "base_uri": "https://localhost:8080/"
        },
        "id": "_NrPS924rQFX",
        "outputId": "292e0dbd-c2b8-4ba2-ec74-56c50bf84e88"
      },
      "execution_count": null,
      "outputs": [
        {
          "output_type": "stream",
          "name": "stdout",
          "text": [
            "jdk.jshell@11.0.22\n"
          ]
        }
      ]
    },
    {
      "cell_type": "code",
      "source": [
        "! wget http://compbio.mit.edu/ChromHMM/ChromHMM.zip"
      ],
      "metadata": {
        "colab": {
          "base_uri": "https://localhost:8080/"
        },
        "id": "zCdYYvCJrpRt",
        "outputId": "2b14f96c-baca-438a-f561-184eac0f1050"
      },
      "execution_count": null,
      "outputs": [
        {
          "output_type": "stream",
          "name": "stdout",
          "text": [
            "--2024-03-23 08:30:21--  http://compbio.mit.edu/ChromHMM/ChromHMM.zip\n",
            "Resolving compbio.mit.edu (compbio.mit.edu)... 128.52.131.233\n",
            "Connecting to compbio.mit.edu (compbio.mit.edu)|128.52.131.233|:80... connected.\n",
            "HTTP request sent, awaiting response... 301 Moved Permanently\n",
            "Location: https://compbio.mit.edu/ChromHMM/ChromHMM.zip [following]\n",
            "--2024-03-23 08:30:22--  https://compbio.mit.edu/ChromHMM/ChromHMM.zip\n",
            "Connecting to compbio.mit.edu (compbio.mit.edu)|128.52.131.233|:443... connected.\n",
            "HTTP request sent, awaiting response... 200 OK\n",
            "Length: 48974627 (47M) [application/zip]\n",
            "Saving to: ‘ChromHMM.zip’\n",
            "\n",
            "ChromHMM.zip        100%[===================>]  46.71M  26.2MB/s    in 1.8s    \n",
            "\n",
            "2024-03-23 08:30:24 (26.2 MB/s) - ‘ChromHMM.zip’ saved [48974627/48974627]\n",
            "\n"
          ]
        }
      ]
    },
    {
      "cell_type": "code",
      "source": [
        "!unzip /content/ChromHMM.zip"
      ],
      "metadata": {
        "id": "gF4uI2bvvEN2",
        "colab": {
          "base_uri": "https://localhost:8080/"
        },
        "outputId": "216d148e-efde-4804-c354-ad83d9f39a82"
      },
      "execution_count": null,
      "outputs": [
        {
          "output_type": "stream",
          "name": "stdout",
          "text": [
            "Archive:  /content/ChromHMM.zip\n",
            "   creating: ChromHMM/ANCHORFILES/\n",
            "   creating: ChromHMM/ANCHORFILES/ce10/\n",
            "  inflating: ChromHMM/ANCHORFILES/ce10/RefSeqTES.ce10.txt.gz  \n",
            "  inflating: ChromHMM/ANCHORFILES/ce10/RefSeqTSS.ce10.txt.gz  \n",
            "   creating: ChromHMM/ANCHORFILES/ce11/\n",
            "  inflating: ChromHMM/ANCHORFILES/ce11/RefSeqTES.ce11.txt.gz  \n",
            "  inflating: ChromHMM/ANCHORFILES/ce11/RefSeqTSS.ce11.txt.gz  \n",
            "   creating: ChromHMM/ANCHORFILES/ce6/\n",
            "  inflating: ChromHMM/ANCHORFILES/ce6/RefSeqTES.ce6.txt.gz  \n",
            "  inflating: ChromHMM/ANCHORFILES/ce6/RefSeqTSS.ce6.txt.gz  \n",
            "   creating: ChromHMM/ANCHORFILES/danRer10/\n",
            "  inflating: ChromHMM/ANCHORFILES/danRer10/RefSeqTES.danRer10.txt.gz  \n",
            "  inflating: ChromHMM/ANCHORFILES/danRer10/RefSeqTSS.danRer10.txt.gz  \n",
            "   creating: ChromHMM/ANCHORFILES/danRer11/\n",
            "  inflating: ChromHMM/ANCHORFILES/danRer11/RefSeqTES.danRer11.txt.gz  \n",
            "  inflating: ChromHMM/ANCHORFILES/danRer11/RefSeqTSS.danRer11.txt.gz  \n",
            "   creating: ChromHMM/ANCHORFILES/danRer7/\n",
            "  inflating: ChromHMM/ANCHORFILES/danRer7/RefSeqTES.danRer7.txt.gz  \n",
            "  inflating: ChromHMM/ANCHORFILES/danRer7/RefSeqTSS.danRer7.txt.gz  \n",
            "   creating: ChromHMM/ANCHORFILES/dm3/\n",
            "  inflating: ChromHMM/ANCHORFILES/dm3/RefSeqTES.dm3.txt.gz  \n",
            "  inflating: ChromHMM/ANCHORFILES/dm3/RefSeqTSS.dm3.txt.gz  \n",
            "   creating: ChromHMM/ANCHORFILES/dm6/\n",
            "  inflating: ChromHMM/ANCHORFILES/dm6/RefSeqTES.dm6.txt.gz  \n",
            "  inflating: ChromHMM/ANCHORFILES/dm6/RefSeqTSS.dm6.txt.gz  \n",
            "   creating: ChromHMM/ANCHORFILES/hg18/\n",
            "  inflating: ChromHMM/ANCHORFILES/hg18/RefSeqTES.hg18.txt.gz  \n",
            "  inflating: ChromHMM/ANCHORFILES/hg18/RefSeqTSS.hg18.txt.gz  \n",
            "   creating: ChromHMM/ANCHORFILES/hg19/\n",
            "  inflating: ChromHMM/ANCHORFILES/hg19/RefSeqTES.hg19.txt.gz  \n",
            "  inflating: ChromHMM/ANCHORFILES/hg19/RefSeqTSS.hg19.txt.gz  \n",
            "   creating: ChromHMM/ANCHORFILES/hg38/\n",
            "  inflating: ChromHMM/ANCHORFILES/hg38/RefSeqTES.hg38.txt.gz  \n",
            "  inflating: ChromHMM/ANCHORFILES/hg38/RefSeqTSS.hg38.txt.gz  \n",
            "   creating: ChromHMM/ANCHORFILES/hs1/\n",
            "  inflating: ChromHMM/ANCHORFILES/hs1/RefSeqTES.hs1.txt.gz  \n",
            "  inflating: ChromHMM/ANCHORFILES/hs1/RefSeqTSS.hs1.txt.gz  \n",
            "   creating: ChromHMM/ANCHORFILES/mm10/\n",
            "  inflating: ChromHMM/ANCHORFILES/mm10/RefSeqTES.mm10.txt.gz  \n",
            "  inflating: ChromHMM/ANCHORFILES/mm10/RefSeqTSS.mm10.txt.gz  \n",
            "   creating: ChromHMM/ANCHORFILES/mm39/\n",
            "  inflating: ChromHMM/ANCHORFILES/mm39/RefSeqTES.mm39.txt.gz  \n",
            "  inflating: ChromHMM/ANCHORFILES/mm39/RefSeqTSS.mm39.txt.gz  \n",
            "   creating: ChromHMM/ANCHORFILES/mm9/\n",
            "  inflating: ChromHMM/ANCHORFILES/mm9/RefSeqTES.mm9.txt.gz  \n",
            "  inflating: ChromHMM/ANCHORFILES/mm9/RefSeqTSS.mm9.txt.gz  \n",
            "   creating: ChromHMM/ANCHORFILES/rn5/\n",
            "  inflating: ChromHMM/ANCHORFILES/rn5/RefSeqTES.rn5.txt.gz  \n",
            "  inflating: ChromHMM/ANCHORFILES/rn5/RefSeqTSS.rn5.txt.gz  \n",
            "   creating: ChromHMM/ANCHORFILES/rn6/\n",
            "  inflating: ChromHMM/ANCHORFILES/rn6/RefSeqTES.rn6.txt.gz  \n",
            "  inflating: ChromHMM/ANCHORFILES/rn6/RefSeqTSS.rn6.txt.gz  \n",
            "  inflating: ChromHMM/ChromHMM.jar   \n",
            "  inflating: ChromHMM/ChromHMM_manual.pdf  \n",
            "   creating: ChromHMM/CHROMSIZES/\n",
            "  inflating: ChromHMM/CHROMSIZES/ce10.txt  \n",
            "  inflating: ChromHMM/CHROMSIZES/ce11.txt  \n",
            "  inflating: ChromHMM/CHROMSIZES/ce6.txt  \n",
            "  inflating: ChromHMM/CHROMSIZES/danRer10.txt  \n",
            "  inflating: ChromHMM/CHROMSIZES/danRer11.txt  \n",
            "  inflating: ChromHMM/CHROMSIZES/danRer7.txt  \n",
            "  inflating: ChromHMM/CHROMSIZES/dm3.txt  \n",
            "  inflating: ChromHMM/CHROMSIZES/dm6.txt  \n",
            "  inflating: ChromHMM/CHROMSIZES/hg18.txt  \n",
            "  inflating: ChromHMM/CHROMSIZES/hg19.txt  \n",
            "  inflating: ChromHMM/CHROMSIZES/hg38.txt  \n",
            "  inflating: ChromHMM/CHROMSIZES/hs1.txt  \n",
            "  inflating: ChromHMM/CHROMSIZES/mm10.txt  \n",
            "  inflating: ChromHMM/CHROMSIZES/mm39.txt  \n",
            "  inflating: ChromHMM/CHROMSIZES/mm9.txt  \n",
            "  inflating: ChromHMM/CHROMSIZES/rn5.txt  \n",
            "  inflating: ChromHMM/CHROMSIZES/rn6.txt  \n",
            "   creating: ChromHMM/COORDS/\n",
            "   creating: ChromHMM/COORDS/ce10/\n",
            "  inflating: ChromHMM/COORDS/ce10/RefSeqExon.ce10.bed.gz  \n",
            "  inflating: ChromHMM/COORDS/ce10/RefSeqGene.ce10.bed.gz  \n",
            "  inflating: ChromHMM/COORDS/ce10/RefSeqTES.ce10.bed.gz  \n",
            "  inflating: ChromHMM/COORDS/ce10/RefSeqTSS.ce10.bed.gz  \n",
            "  inflating: ChromHMM/COORDS/ce10/RefSeqTSS2kb.ce10.bed.gz  \n",
            "   creating: ChromHMM/COORDS/ce11/\n",
            "  inflating: ChromHMM/COORDS/ce11/RefSeqExon.ce11.bed.gz  \n",
            "  inflating: ChromHMM/COORDS/ce11/RefSeqGene.ce11.bed.gz  \n",
            "  inflating: ChromHMM/COORDS/ce11/RefSeqTES.ce11.bed.gz  \n",
            "  inflating: ChromHMM/COORDS/ce11/RefSeqTSS.ce11.bed.gz  \n",
            "  inflating: ChromHMM/COORDS/ce11/RefSeqTSS2kb.ce11.bed.gz  \n",
            "   creating: ChromHMM/COORDS/ce6/\n",
            "  inflating: ChromHMM/COORDS/ce6/RefSeqExon.ce6.bed.gz  \n",
            "  inflating: ChromHMM/COORDS/ce6/RefSeqGene.ce6.bed.gz  \n",
            "  inflating: ChromHMM/COORDS/ce6/RefSeqTES.ce6.bed.gz  \n",
            "  inflating: ChromHMM/COORDS/ce6/RefSeqTSS.ce6.bed.gz  \n",
            "  inflating: ChromHMM/COORDS/ce6/RefSeqTSS2kb.ce6.bed.gz  \n",
            "   creating: ChromHMM/COORDS/danRer10/\n",
            "  inflating: ChromHMM/COORDS/danRer10/RefSeqExon.danRer10.bed.gz  \n",
            "  inflating: ChromHMM/COORDS/danRer10/RefSeqGene.danRer10.bed.gz  \n",
            "  inflating: ChromHMM/COORDS/danRer10/RefSeqTES.danRer10.bed.gz  \n",
            "  inflating: ChromHMM/COORDS/danRer10/RefSeqTSS.danRer10.bed.gz  \n",
            "  inflating: ChromHMM/COORDS/danRer10/RefSeqTSS2kb.danRer10.bed.gz  \n",
            "   creating: ChromHMM/COORDS/danRer11/\n",
            "  inflating: ChromHMM/COORDS/danRer11/RefSeqExon.danRer11.bed.gz  \n",
            "  inflating: ChromHMM/COORDS/danRer11/RefSeqGene.danRer11.bed.gz  \n",
            "  inflating: ChromHMM/COORDS/danRer11/RefSeqTES.danRer11.bed.gz  \n",
            "  inflating: ChromHMM/COORDS/danRer11/RefSeqTSS.danRer11.bed.gz  \n",
            "  inflating: ChromHMM/COORDS/danRer11/RefSeqTSS2kb.danRer11.bed.gz  \n",
            "   creating: ChromHMM/COORDS/danRer7/\n",
            "  inflating: ChromHMM/COORDS/danRer7/RefSeqExon.danRer7.bed.gz  \n",
            "  inflating: ChromHMM/COORDS/danRer7/RefSeqGene.danRer7.bed.gz  \n",
            "  inflating: ChromHMM/COORDS/danRer7/RefSeqTES.danRer7.bed.gz  \n",
            "  inflating: ChromHMM/COORDS/danRer7/RefSeqTSS.danRer7.bed.gz  \n",
            "  inflating: ChromHMM/COORDS/danRer7/RefSeqTSS2kb.danRer7.bed.gz  \n",
            "   creating: ChromHMM/COORDS/dm3/\n",
            "  inflating: ChromHMM/COORDS/dm3/RefSeqExon.dm3.bed.gz  \n",
            "  inflating: ChromHMM/COORDS/dm3/RefSeqGene.dm3.bed.gz  \n",
            "  inflating: ChromHMM/COORDS/dm3/RefSeqTES.dm3.bed.gz  \n",
            "  inflating: ChromHMM/COORDS/dm3/RefSeqTSS.dm3.bed.gz  \n",
            "  inflating: ChromHMM/COORDS/dm3/RefSeqTSS2kb.dm3.bed.gz  \n",
            "   creating: ChromHMM/COORDS/dm6/\n",
            "  inflating: ChromHMM/COORDS/dm6/RefSeqExon.dm6.bed.gz  \n",
            "  inflating: ChromHMM/COORDS/dm6/RefSeqGene.dm6.bed.gz  \n",
            "  inflating: ChromHMM/COORDS/dm6/RefSeqTES.dm6.bed.gz  \n",
            "  inflating: ChromHMM/COORDS/dm6/RefSeqTSS.dm6.bed.gz  \n",
            "  inflating: ChromHMM/COORDS/dm6/RefSeqTSS2kb.dm6.bed.gz  \n",
            "   creating: ChromHMM/COORDS/hg18/\n",
            "  inflating: ChromHMM/COORDS/hg18/CpGIsland.hg18.bed.gz  \n",
            " extracting: ChromHMM/COORDS/hg18/laminB1lads.hg18.bed.gz  \n",
            "  inflating: ChromHMM/COORDS/hg18/RefSeqExon.hg18.bed.gz  \n",
            "  inflating: ChromHMM/COORDS/hg18/RefSeqGene.hg18.bed.gz  \n",
            "  inflating: ChromHMM/COORDS/hg18/RefSeqTES.hg18.bed.gz  \n",
            "  inflating: ChromHMM/COORDS/hg18/RefSeqTSS.hg18.bed.gz  \n",
            "  inflating: ChromHMM/COORDS/hg18/RefSeqTSS2kb.hg18.bed.gz  \n",
            "   creating: ChromHMM/COORDS/hg19/\n",
            "  inflating: ChromHMM/COORDS/hg19/CpGIsland.hg19.bed.gz  \n",
            " extracting: ChromHMM/COORDS/hg19/laminB1lads.hg19.bed.gz  \n",
            "  inflating: ChromHMM/COORDS/hg19/RefSeqExon.hg19.bed.gz  \n",
            "  inflating: ChromHMM/COORDS/hg19/RefSeqGene.hg19.bed.gz  \n",
            "  inflating: ChromHMM/COORDS/hg19/RefSeqTES.hg19.bed.gz  \n",
            "  inflating: ChromHMM/COORDS/hg19/RefSeqTSS.hg19.bed.gz  \n",
            "  inflating: ChromHMM/COORDS/hg19/RefSeqTSS2kb.hg19.bed.gz  \n",
            "   creating: ChromHMM/COORDS/hg38/\n",
            "  inflating: ChromHMM/COORDS/hg38/CpGIsland.hg38.bed.gz  \n",
            "  inflating: ChromHMM/COORDS/hg38/RefSeqExon.hg38.bed.gz  \n",
            "  inflating: ChromHMM/COORDS/hg38/RefSeqGene.hg38.bed.gz  \n",
            "  inflating: ChromHMM/COORDS/hg38/RefSeqTES.hg38.bed.gz  \n",
            "  inflating: ChromHMM/COORDS/hg38/RefSeqTSS.hg38.bed.gz  \n",
            "  inflating: ChromHMM/COORDS/hg38/RefSeqTSS2kb.hg38.bed.gz  \n",
            "   creating: ChromHMM/COORDS/hs1/\n",
            "  inflating: ChromHMM/COORDS/hs1/CpGIsland.hs1.bed.gz  \n",
            "  inflating: ChromHMM/COORDS/hs1/RefSeqExon.hs1.bed.gz  \n",
            "  inflating: ChromHMM/COORDS/hs1/RefSeqGene.hs1.bed.gz  \n",
            "  inflating: ChromHMM/COORDS/hs1/RefSeqTES.hs1.bed.gz  \n",
            "  inflating: ChromHMM/COORDS/hs1/RefSeqTSS.hs1.bed.gz  \n",
            "  inflating: ChromHMM/COORDS/hs1/RefSeqTSS2kb.hs1.bed.gz  \n",
            "   creating: ChromHMM/COORDS/mm10/\n",
            "  inflating: ChromHMM/COORDS/mm10/CpGIsland.mm10.bed.gz  \n",
            "  inflating: ChromHMM/COORDS/mm10/RefSeqExon.mm10.bed.gz  \n",
            "  inflating: ChromHMM/COORDS/mm10/RefSeqGene.mm10.bed.gz  \n",
            "  inflating: ChromHMM/COORDS/mm10/RefSeqTES.mm10.bed.gz  \n",
            "  inflating: ChromHMM/COORDS/mm10/RefSeqTSS.mm10.bed.gz  \n",
            "  inflating: ChromHMM/COORDS/mm10/RefSeqTSS2kb.mm10.bed.gz  \n",
            "   creating: ChromHMM/COORDS/mm39/\n",
            "  inflating: ChromHMM/COORDS/mm39/CpGIsland.mm39.bed.gz  \n",
            "  inflating: ChromHMM/COORDS/mm39/RefSeqExon.mm39.bed.gz  \n",
            "  inflating: ChromHMM/COORDS/mm39/RefSeqGene.mm39.bed.gz  \n",
            "  inflating: ChromHMM/COORDS/mm39/RefSeqTES.mm39.bed.gz  \n",
            "  inflating: ChromHMM/COORDS/mm39/RefSeqTSS.mm39.bed.gz  \n",
            "  inflating: ChromHMM/COORDS/mm39/RefSeqTSS2kb.mm39.bed.gz  \n",
            "   creating: ChromHMM/COORDS/mm9/\n",
            "  inflating: ChromHMM/COORDS/mm9/CpGIsland.mm9.bed.gz  \n",
            "  inflating: ChromHMM/COORDS/mm9/RefSeqExon.mm9.bed.gz  \n",
            "  inflating: ChromHMM/COORDS/mm9/RefSeqGene.mm9.bed.gz  \n",
            "  inflating: ChromHMM/COORDS/mm9/RefSeqTES.mm9.bed.gz  \n",
            "  inflating: ChromHMM/COORDS/mm9/RefSeqTSS.mm9.bed.gz  \n",
            "  inflating: ChromHMM/COORDS/mm9/RefSeqTSS2kb.mm9.bed.gz  \n",
            "   creating: ChromHMM/COORDS/rn5/\n",
            "  inflating: ChromHMM/COORDS/rn5/CpGIsland.rn5.bed.gz  \n",
            "  inflating: ChromHMM/COORDS/rn5/RefSeqExon.rn5.bed.gz  \n",
            "  inflating: ChromHMM/COORDS/rn5/RefSeqGene.rn5.bed.gz  \n",
            "  inflating: ChromHMM/COORDS/rn5/RefSeqTES.rn5.bed.gz  \n",
            "  inflating: ChromHMM/COORDS/rn5/RefSeqTSS.rn5.bed.gz  \n",
            "  inflating: ChromHMM/COORDS/rn5/RefSeqTSS2kb.rn5.bed.gz  \n",
            "   creating: ChromHMM/COORDS/rn6/\n",
            "  inflating: ChromHMM/COORDS/rn6/CpGIsland.rn6.bed.gz  \n",
            "  inflating: ChromHMM/COORDS/rn6/RefSeqExon.rn6.bed.gz  \n",
            "  inflating: ChromHMM/COORDS/rn6/RefSeqGene.rn6.bed.gz  \n",
            "  inflating: ChromHMM/COORDS/rn6/RefSeqTES.rn6.bed.gz  \n",
            "  inflating: ChromHMM/COORDS/rn6/RefSeqTSS.rn6.bed.gz  \n",
            "  inflating: ChromHMM/COORDS/rn6/RefSeqTSS2kb.rn6.bed.gz  \n",
            "   creating: ChromHMM/SAMPLEDATA_HG18/\n",
            "  inflating: ChromHMM/SAMPLEDATA_HG18/GM12878_chr11_binary.txt.gz  \n",
            "  inflating: ChromHMM/SAMPLEDATA_HG18/K562_chr11_binary.txt.gz  \n",
            "   creating: ChromHMM/SRC/\n",
            "   creating: ChromHMM/SRC/edu/\n",
            "   creating: ChromHMM/SRC/edu/mit/\n",
            "   creating: ChromHMM/SRC/edu/mit/compbio/\n",
            "   creating: ChromHMM/SRC/edu/mit/compbio/ChromHMM/\n",
            "  inflating: ChromHMM/SRC/edu/mit/compbio/ChromHMM/BrowserOutput.java  \n",
            "  inflating: ChromHMM/SRC/edu/mit/compbio/ChromHMM/ChromHMM.java  \n",
            "  inflating: ChromHMM/SRC/edu/mit/compbio/ChromHMM/ConvertGeneTable.java  \n",
            "  inflating: ChromHMM/SRC/edu/mit/compbio/ChromHMM/NestedEliminateInitialize.java  \n",
            "  inflating: ChromHMM/SRC/edu/mit/compbio/ChromHMM/Preprocessing.java  \n",
            "  inflating: ChromHMM/SRC/edu/mit/compbio/ChromHMM/StateAnalysis.java  \n",
            "  inflating: ChromHMM/SRC/edu/mit/compbio/ChromHMM/Util.java  \n",
            "   creating: ChromHMM/SRC/org/\n",
            "   creating: ChromHMM/SRC/org/tc33/\n",
            "   creating: ChromHMM/SRC/org/tc33/jheatchart/\n",
            "  inflating: ChromHMM/SRC/org/tc33/jheatchart/HeatChart.java  \n",
            "  inflating: ChromHMM/versionlog.txt  \n"
          ]
        }
      ]
    },
    {
      "cell_type": "markdown",
      "source": [
        "## Скачиваем файлы"
      ],
      "metadata": {
        "id": "k80uGrS5quq1"
      }
    },
    {
      "cell_type": "code",
      "source": [
        "! wget https://hgdownload.cse.ucsc.edu/goldenPath/hg19/encodeDCC/wgEncodeBroadHistone/wgEncodeBroadHistoneGm12878H2azStdAlnRep1.bam -O H2az.bam"
      ],
      "metadata": {
        "id": "PSWbbv8wcFUY",
        "colab": {
          "base_uri": "https://localhost:8080/"
        },
        "outputId": "9327ac0b-4b68-4db9-f649-88ade20aeafb"
      },
      "execution_count": null,
      "outputs": [
        {
          "output_type": "stream",
          "name": "stdout",
          "text": [
            "--2024-03-23 10:08:17--  https://hgdownload.cse.ucsc.edu/goldenPath/hg19/encodeDCC/wgEncodeBroadHistone/wgEncodeBroadHistoneGm12878H2azStdAlnRep1.bam\n",
            "Resolving hgdownload.cse.ucsc.edu (hgdownload.cse.ucsc.edu)... 128.114.198.53\n",
            "Connecting to hgdownload.cse.ucsc.edu (hgdownload.cse.ucsc.edu)|128.114.198.53|:443... connected.\n",
            "HTTP request sent, awaiting response... 200 OK\n",
            "Length: 909432292 (867M) [application/octet-stream]\n",
            "Saving to: ‘H2az.bam’\n",
            "\n",
            "H2az.bam            100%[===================>] 867.30M   114MB/s    in 6.9s    \n",
            "\n",
            "2024-03-23 10:08:24 (126 MB/s) - ‘H2az.bam’ saved [909432292/909432292]\n",
            "\n"
          ]
        }
      ]
    },
    {
      "cell_type": "code",
      "source": [
        "! wget https://hgdownload.cse.ucsc.edu/goldenPath/hg19/encodeDCC/wgEncodeBroadHistone/wgEncodeBroadHistoneGm12878H3k27acStdAlnRep1.bam -O H3k27ac.bam"
      ],
      "metadata": {
        "colab": {
          "base_uri": "https://localhost:8080/"
        },
        "id": "LHMJIW0DyGS-",
        "outputId": "d9796db9-9b36-483d-d05d-c6399130224f"
      },
      "execution_count": null,
      "outputs": [
        {
          "output_type": "stream",
          "name": "stdout",
          "text": [
            "--2024-03-23 10:11:34--  https://hgdownload.cse.ucsc.edu/goldenPath/hg19/encodeDCC/wgEncodeBroadHistone/wgEncodeBroadHistoneGm12878H3k27acStdAlnRep1.bam\n",
            "Resolving hgdownload.cse.ucsc.edu (hgdownload.cse.ucsc.edu)... 128.114.198.53\n",
            "Connecting to hgdownload.cse.ucsc.edu (hgdownload.cse.ucsc.edu)|128.114.198.53|:443... connected.\n",
            "HTTP request sent, awaiting response... 200 OK\n",
            "Length: 558819243 (533M) [application/octet-stream]\n",
            "Saving to: ‘H3k27ac.bam’\n",
            "\n",
            "H3k27ac.bam         100%[===================>] 532.93M  73.2MB/s    in 6.5s    \n",
            "\n",
            "2024-03-23 10:11:41 (82.5 MB/s) - ‘H3k27ac.bam’ saved [558819243/558819243]\n",
            "\n"
          ]
        }
      ]
    },
    {
      "cell_type": "code",
      "source": [
        "! wget https://hgdownload.cse.ucsc.edu/goldenPath/hg19/encodeDCC/wgEncodeBroadHistone/wgEncodeBroadHistoneGm12878H3k27me3StdAlnRep1.bam -O H3k27me3.bam"
      ],
      "metadata": {
        "colab": {
          "base_uri": "https://localhost:8080/"
        },
        "id": "abqxJMkMy2d3",
        "outputId": "17e8f41e-a957-4be3-ee1f-1bab4d5a44a0"
      },
      "execution_count": null,
      "outputs": [
        {
          "output_type": "stream",
          "name": "stdout",
          "text": [
            "--2024-03-23 10:13:13--  https://hgdownload.cse.ucsc.edu/goldenPath/hg19/encodeDCC/wgEncodeBroadHistone/wgEncodeBroadHistoneGm12878H3k27me3StdAlnRep1.bam\n",
            "Resolving hgdownload.cse.ucsc.edu (hgdownload.cse.ucsc.edu)... 128.114.198.53\n",
            "Connecting to hgdownload.cse.ucsc.edu (hgdownload.cse.ucsc.edu)|128.114.198.53|:443... connected.\n",
            "HTTP request sent, awaiting response... 200 OK\n",
            "Length: 694904987 (663M) [application/octet-stream]\n",
            "Saving to: ‘H3k27me3.bam’\n",
            "\n",
            "H3k27me3.bam        100%[===================>] 662.71M   139MB/s    in 6.0s    \n",
            "\n",
            "2024-03-23 10:13:19 (111 MB/s) - ‘H3k27me3.bam’ saved [694904987/694904987]\n",
            "\n"
          ]
        }
      ]
    },
    {
      "cell_type": "code",
      "source": [
        "! wget https://hgdownload.cse.ucsc.edu/goldenPath/hg19/encodeDCC/wgEncodeBroadHistone/wgEncodeBroadHistoneGm12878H3k36me3StdAlnRep1.bam -O H3k36me3.bam"
      ],
      "metadata": {
        "colab": {
          "base_uri": "https://localhost:8080/"
        },
        "id": "RcNxGDZuzOm-",
        "outputId": "5594cbd6-00dd-4d4c-cb13-acc0bc9c4f21"
      },
      "execution_count": null,
      "outputs": [
        {
          "output_type": "stream",
          "name": "stdout",
          "text": [
            "--2024-03-23 10:13:49--  https://hgdownload.cse.ucsc.edu/goldenPath/hg19/encodeDCC/wgEncodeBroadHistone/wgEncodeBroadHistoneGm12878H3k36me3StdAlnRep1.bam\n",
            "Resolving hgdownload.cse.ucsc.edu (hgdownload.cse.ucsc.edu)... 128.114.198.53\n",
            "Connecting to hgdownload.cse.ucsc.edu (hgdownload.cse.ucsc.edu)|128.114.198.53|:443... connected.\n",
            "HTTP request sent, awaiting response... 200 OK\n",
            "Length: 653896954 (624M) [application/octet-stream]\n",
            "Saving to: ‘H3k36me3.bam’\n",
            "\n",
            "H3k36me3.bam        100%[===================>] 623.60M  85.7MB/s    in 5.4s    \n",
            "\n",
            "2024-03-23 10:13:54 (115 MB/s) - ‘H3k36me3.bam’ saved [653896954/653896954]\n",
            "\n"
          ]
        }
      ]
    },
    {
      "cell_type": "code",
      "source": [
        "! wget https://hgdownload.cse.ucsc.edu/goldenPath/hg19/encodeDCC/wgEncodeBroadHistone/wgEncodeBroadHistoneGm12878H3k04me1StdAlnRep1V2.bam -O H3k04me1.bam"
      ],
      "metadata": {
        "colab": {
          "base_uri": "https://localhost:8080/"
        },
        "id": "5doT4RH1zYSg",
        "outputId": "49d38ac2-3b31-41dd-b359-451bf2db8742"
      },
      "execution_count": null,
      "outputs": [
        {
          "output_type": "stream",
          "name": "stdout",
          "text": [
            "--2024-03-23 10:15:04--  https://hgdownload.cse.ucsc.edu/goldenPath/hg19/encodeDCC/wgEncodeBroadHistone/wgEncodeBroadHistoneGm12878H3k04me1StdAlnRep1V2.bam\n",
            "Resolving hgdownload.cse.ucsc.edu (hgdownload.cse.ucsc.edu)... 128.114.198.53\n",
            "Connecting to hgdownload.cse.ucsc.edu (hgdownload.cse.ucsc.edu)|128.114.198.53|:443... connected.\n",
            "HTTP request sent, awaiting response... 200 OK\n",
            "Length: 1669578931 (1.6G) [application/octet-stream]\n",
            "Saving to: ‘H3k04me1.bam’\n",
            "\n",
            "H3k04me1.bam        100%[===================>]   1.55G   108MB/s    in 17s     \n",
            "\n",
            "2024-03-23 10:15:21 (92.2 MB/s) - ‘H3k04me1.bam’ saved [1669578931/1669578931]\n",
            "\n"
          ]
        }
      ]
    },
    {
      "cell_type": "code",
      "source": [
        "! wget https://hgdownload.cse.ucsc.edu/goldenPath/hg19/encodeDCC/wgEncodeBroadHistone/wgEncodeBroadHistoneGm12878H3k4me2StdAlnRep1.bam -O H3k4me2.bam"
      ],
      "metadata": {
        "colab": {
          "base_uri": "https://localhost:8080/"
        },
        "id": "fR8uC4zIzrh-",
        "outputId": "7d8372c0-e854-47be-a806-da1794b3486a"
      },
      "execution_count": null,
      "outputs": [
        {
          "output_type": "stream",
          "name": "stdout",
          "text": [
            "--2024-03-23 10:15:56--  https://hgdownload.cse.ucsc.edu/goldenPath/hg19/encodeDCC/wgEncodeBroadHistone/wgEncodeBroadHistoneGm12878H3k4me2StdAlnRep1.bam\n",
            "Resolving hgdownload.cse.ucsc.edu (hgdownload.cse.ucsc.edu)... 128.114.198.53\n",
            "Connecting to hgdownload.cse.ucsc.edu (hgdownload.cse.ucsc.edu)|128.114.198.53|:443... connected.\n",
            "HTTP request sent, awaiting response... 200 OK\n",
            "Length: 375560725 (358M) [application/octet-stream]\n",
            "Saving to: ‘H3k4me2.bam’\n",
            "\n",
            "H3k4me2.bam         100%[===================>] 358.16M   160MB/s    in 2.2s    \n",
            "\n",
            "2024-03-23 10:15:58 (160 MB/s) - ‘H3k4me2.bam’ saved [375560725/375560725]\n",
            "\n"
          ]
        }
      ]
    },
    {
      "cell_type": "code",
      "source": [
        "! wget https://hgdownload.cse.ucsc.edu/goldenPath/hg19/encodeDCC/wgEncodeBroadHistone/wgEncodeBroadHistoneGm12878H3k04me3StdAlnRep2V2.bam -O H3k04me3.bam"
      ],
      "metadata": {
        "colab": {
          "base_uri": "https://localhost:8080/"
        },
        "id": "gDbtGsAnz2cL",
        "outputId": "ba108736-e8ed-4f4e-d5aa-9d91630b8e21"
      },
      "execution_count": null,
      "outputs": [
        {
          "output_type": "stream",
          "name": "stdout",
          "text": [
            "--2024-03-23 10:18:16--  https://hgdownload.cse.ucsc.edu/goldenPath/hg19/encodeDCC/wgEncodeBroadHistone/wgEncodeBroadHistoneGm12878H3k04me3StdAlnRep2V2.bam\n",
            "Resolving hgdownload.cse.ucsc.edu (hgdownload.cse.ucsc.edu)... 128.114.198.53\n",
            "Connecting to hgdownload.cse.ucsc.edu (hgdownload.cse.ucsc.edu)|128.114.198.53|:443... connected.\n",
            "HTTP request sent, awaiting response... 200 OK\n",
            "Length: 1728763008 (1.6G) [application/octet-stream]\n",
            "Saving to: ‘H3k04me3.bam’\n",
            "\n",
            "H3k04me3.bam        100%[===================>]   1.61G   148MB/s    in 13s     \n",
            "\n",
            "2024-03-23 10:18:30 (123 MB/s) - ‘H3k04me3.bam’ saved [1728763008/1728763008]\n",
            "\n"
          ]
        }
      ]
    },
    {
      "cell_type": "code",
      "source": [
        "! wget https://hgdownload.cse.ucsc.edu/goldenPath/hg19/encodeDCC/wgEncodeBroadHistone/wgEncodeBroadHistoneGm12878H3k79me2StdAlnRep1.bam -O H3k79me2.bam"
      ],
      "metadata": {
        "colab": {
          "base_uri": "https://localhost:8080/"
        },
        "id": "8a1Cburo0YVi",
        "outputId": "6bb53d8d-6be0-4779-c28b-33de59ef9ee8"
      },
      "execution_count": null,
      "outputs": [
        {
          "output_type": "stream",
          "name": "stdout",
          "text": [
            "--2024-03-23 10:18:58--  https://hgdownload.cse.ucsc.edu/goldenPath/hg19/encodeDCC/wgEncodeBroadHistone/wgEncodeBroadHistoneGm12878H3k79me2StdAlnRep1.bam\n",
            "Resolving hgdownload.cse.ucsc.edu (hgdownload.cse.ucsc.edu)... 128.114.198.53\n",
            "Connecting to hgdownload.cse.ucsc.edu (hgdownload.cse.ucsc.edu)|128.114.198.53|:443... connected.\n",
            "HTTP request sent, awaiting response... 200 OK\n",
            "Length: 665537795 (635M) [application/octet-stream]\n",
            "Saving to: ‘H3k79me2.bam’\n",
            "\n",
            "H3k79me2.bam        100%[===================>] 634.71M   118MB/s    in 5.3s    \n",
            "\n",
            "2024-03-23 10:19:04 (119 MB/s) - ‘H3k79me2.bam’ saved [665537795/665537795]\n",
            "\n"
          ]
        }
      ]
    },
    {
      "cell_type": "code",
      "source": [
        "! wget https://hgdownload.cse.ucsc.edu/goldenPath/hg19/encodeDCC/wgEncodeBroadHistone/wgEncodeBroadHistoneGm12878H3k9acStdAlnRep1.bam -O H3k9ac.bam"
      ],
      "metadata": {
        "colab": {
          "base_uri": "https://localhost:8080/"
        },
        "id": "z-orf3Ga0mHV",
        "outputId": "c488695e-598a-4e82-c07b-64087e158332"
      },
      "execution_count": null,
      "outputs": [
        {
          "output_type": "stream",
          "name": "stdout",
          "text": [
            "--2024-03-23 10:19:38--  https://hgdownload.cse.ucsc.edu/goldenPath/hg19/encodeDCC/wgEncodeBroadHistone/wgEncodeBroadHistoneGm12878H3k9acStdAlnRep1.bam\n",
            "Resolving hgdownload.cse.ucsc.edu (hgdownload.cse.ucsc.edu)... 128.114.198.53\n",
            "Connecting to hgdownload.cse.ucsc.edu (hgdownload.cse.ucsc.edu)|128.114.198.53|:443... connected.\n",
            "HTTP request sent, awaiting response... 200 OK\n",
            "Length: 483340301 (461M) [application/octet-stream]\n",
            "Saving to: ‘H3k9ac.bam’\n",
            "\n",
            "H3k9ac.bam          100%[===================>] 460.95M   150MB/s    in 3.1s    \n",
            "\n",
            "2024-03-23 10:19:41 (150 MB/s) - ‘H3k9ac.bam’ saved [483340301/483340301]\n",
            "\n"
          ]
        }
      ]
    },
    {
      "cell_type": "code",
      "source": [
        "! wget https://hgdownload.cse.ucsc.edu/goldenPath/hg19/encodeDCC/wgEncodeBroadHistone/wgEncodeBroadHistoneGm12878H3k9me3StdAlnRep1.bam -O H3k9me3.bam"
      ],
      "metadata": {
        "colab": {
          "base_uri": "https://localhost:8080/"
        },
        "id": "H8z9gBju0tj1",
        "outputId": "22ce4db2-1de0-4b24-d701-3d972f439381"
      },
      "execution_count": null,
      "outputs": [
        {
          "output_type": "stream",
          "name": "stdout",
          "text": [
            "--2024-03-23 10:20:23--  https://hgdownload.cse.ucsc.edu/goldenPath/hg19/encodeDCC/wgEncodeBroadHistone/wgEncodeBroadHistoneGm12878H3k9me3StdAlnRep1.bam\n",
            "Resolving hgdownload.cse.ucsc.edu (hgdownload.cse.ucsc.edu)... 128.114.198.53\n",
            "Connecting to hgdownload.cse.ucsc.edu (hgdownload.cse.ucsc.edu)|128.114.198.53|:443... connected.\n",
            "HTTP request sent, awaiting response... 200 OK\n",
            "Length: 677319758 (646M) [application/octet-stream]\n",
            "Saving to: ‘H3k9me3.bam’\n",
            "\n",
            "H3k9me3.bam         100%[===================>] 645.94M  85.2MB/s    in 6.8s    \n",
            "\n",
            "2024-03-23 10:20:30 (95.2 MB/s) - ‘H3k9me3.bam’ saved [677319758/677319758]\n",
            "\n"
          ]
        }
      ]
    },
    {
      "cell_type": "code",
      "source": [
        "! wget https://hgdownload.cse.ucsc.edu/goldenPath/hg19/encodeDCC/wgEncodeBroadHistone/wgEncodeBroadHistoneGm12878ControlStdAlnRep1.bam -O control.bam"
      ],
      "metadata": {
        "colab": {
          "base_uri": "https://localhost:8080/"
        },
        "id": "9vX56iiN2Z9n",
        "outputId": "29edb31c-a50f-48b8-a874-808a49f267d9"
      },
      "execution_count": null,
      "outputs": [
        {
          "output_type": "stream",
          "name": "stdout",
          "text": [
            "--2024-03-23 10:27:40--  https://hgdownload.cse.ucsc.edu/goldenPath/hg19/encodeDCC/wgEncodeBroadHistone/wgEncodeBroadHistoneGm12878ControlStdAlnRep1.bam\n",
            "Resolving hgdownload.cse.ucsc.edu (hgdownload.cse.ucsc.edu)... 128.114.198.53\n",
            "Connecting to hgdownload.cse.ucsc.edu (hgdownload.cse.ucsc.edu)|128.114.198.53|:443... connected.\n",
            "HTTP request sent, awaiting response... 200 OK\n",
            "Length: 309676571 (295M) [application/octet-stream]\n",
            "Saving to: ‘control.bam’\n",
            "\n",
            "control.bam         100%[===================>] 295.33M   144MB/s    in 2.1s    \n",
            "\n",
            "2024-03-23 10:27:42 (144 MB/s) - ‘control.bam’ saved [309676571/309676571]\n",
            "\n"
          ]
        }
      ]
    },
    {
      "cell_type": "markdown",
      "source": [
        "* Вручную создаем текстовый файл cellmarkfiletable.txt, в котором указываем название типа клеток, разных гистоновых меток, а также соответствующие .bam файлы для эксперимента и контроля. Один и тот же контрольный файл .bam может быть использован для всех экспериментов.\n",
        "\n",
        "* Более подробно о содержании файла cellmarkfiletable.txt можно посмотреть в руководстве пользователя ChromHMM\n",
        "\n",
        "* Файл cellmarkfiletable.txt добавляем в github репозиторий для отчета"
      ],
      "metadata": {
        "id": "asjMJ26h79SY"
      }
    },
    {
      "cell_type": "markdown",
      "source": [
        "Запускаем ChromHMM с опцией BinarizeBam, чтобы конвертировать профили из ChIP-seq экспериментов (bam-файлы) в табличку из 0 и 1, т.е. чтобы сделать разбивку генома на условные интервалы (бины) длиной 200 п.о.\n",
        "Для 11 меток программа работает около 5 мин\n"
      ],
      "metadata": {
        "id": "WeoRL3rp728b"
      }
    },
    {
      "cell_type": "code",
      "source": [
        "!java -mx5000M -jar /content/ChromHMM/ChromHMM.jar BinarizeBam -b 200  /content/ChromHMM/CHROMSIZES/hg19.txt /content/ cellmarkfiletable.txt   binarizedData\n"
      ],
      "metadata": {
        "colab": {
          "base_uri": "https://localhost:8080/"
        },
        "id": "GcVBvuQZfzb8",
        "outputId": "9e8d0525-8169-4f5a-c6c8-4e1838f56cce"
      },
      "execution_count": null,
      "outputs": [
        {
          "output_type": "stream",
          "name": "stdout",
          "text": [
            "Writing to file binarizedData/GM12878_chr1_binary.txt\n",
            "Writing to file binarizedData/GM12878_chr2_binary.txt\n",
            "Writing to file binarizedData/GM12878_chr3_binary.txt\n",
            "Writing to file binarizedData/GM12878_chr4_binary.txt\n",
            "Writing to file binarizedData/GM12878_chr5_binary.txt\n",
            "Writing to file binarizedData/GM12878_chr6_binary.txt\n",
            "Writing to file binarizedData/GM12878_chr7_binary.txt\n",
            "Writing to file binarizedData/GM12878_chrX_binary.txt\n",
            "Writing to file binarizedData/GM12878_chr8_binary.txt\n",
            "Writing to file binarizedData/GM12878_chr9_binary.txt\n",
            "Writing to file binarizedData/GM12878_chr10_binary.txt\n",
            "Writing to file binarizedData/GM12878_chr11_binary.txt\n",
            "Writing to file binarizedData/GM12878_chr12_binary.txt\n",
            "Writing to file binarizedData/GM12878_chr13_binary.txt\n",
            "Writing to file binarizedData/GM12878_chr14_binary.txt\n",
            "Writing to file binarizedData/GM12878_chr15_binary.txt\n",
            "Writing to file binarizedData/GM12878_chr16_binary.txt\n",
            "Writing to file binarizedData/GM12878_chr17_binary.txt\n",
            "Writing to file binarizedData/GM12878_chr18_binary.txt\n",
            "Writing to file binarizedData/GM12878_chr20_binary.txt\n",
            "Writing to file binarizedData/GM12878_chr19_binary.txt\n",
            "Writing to file binarizedData/GM12878_chr22_binary.txt\n",
            "Writing to file binarizedData/GM12878_chr21_binary.txt\n",
            "Writing to file binarizedData/GM12878_chrM_binary.txt\n"
          ]
        }
      ]
    },
    {
      "cell_type": "markdown",
      "source": [
        "Запускаем ChromHMM с опцией LearnModel (см. руководство пользователя), которая автоматически определит параметры N разных эпигенетических типов с наиболее выраженными наборами гистоновых меток и присвоит каждому геномному интервалу определенный эпигенетический тип. Количество разных эпигенетических типов (или состояний) выбираете сами (например 10 штук).\n",
        "Не забудьте, что мы работаем с версией референсного генома человека hg19\n",
        "Для 11 меток программа работает около 10 минут\n"
      ],
      "metadata": {
        "id": "Yo11TtNG8SXU"
      }
    },
    {
      "cell_type": "code",
      "source": [
        "!java -mx5000M -jar /content/ChromHMM/ChromHMM.jar LearnModel /content/binarizedData/ /content/data 10 hg19"
      ],
      "metadata": {
        "colab": {
          "base_uri": "https://localhost:8080/"
        },
        "id": "Kwtils0N7RcS",
        "outputId": "8577bd6e-886a-4d9d-d274-f0ef3550e608"
      },
      "execution_count": null,
      "outputs": [
        {
          "output_type": "stream",
          "name": "stdout",
          "text": [
            "Writing to file /content/data/transitions_10.txt\n",
            "Writing to file /content/data/emissions_10.txt\n",
            "Writing to file /content/data/emissions_10.svg\n",
            "Writing to file /content/data/emissions_10.png\n",
            "Writing to file /content/data/transitions_10.png\n",
            "Writing to file /content/data/transitions_10.svg\n",
            "Writing to file /content/data/model_10.txt\n",
            " Iteration  Estimated Log Likelihood     Change    Total Time (secs)\n",
            "         1              -9346320.797          -                 21.1\n",
            "         2              -7897204.165 1449116.633                 36.1\n",
            "         3              -7585818.515 311385.650                 48.2\n",
            "         4              -7392842.185 192976.330                 59.7\n",
            "         5              -7288784.701 104057.484                 70.7\n",
            "         6              -7242287.318  46497.382                 81.0\n",
            "         7              -7219604.480  22682.839                 92.4\n",
            "         8              -7206044.344  13560.136                103.9\n",
            "         9              -7198773.577   7270.767                115.1\n",
            "        10              -7193964.883   4808.694                125.0\n",
            "        11              -7190335.093   3629.790                136.6\n",
            "        12              -7187209.067   3126.026                147.9\n",
            "        13              -7184009.512   3199.555                159.3\n",
            "        14              -7180685.349   3324.163                169.1\n",
            "        15              -7177396.484   3288.865                180.3\n",
            "        16              -7174300.846   3095.638                191.7\n",
            "        17              -7171494.499   2806.346                203.0\n",
            "        18              -7169084.654   2409.845                213.0\n",
            "        19              -7167174.061   1910.593                224.1\n",
            "        20              -7165788.757   1385.304                235.6\n",
            "        21              -7164858.305    930.452                247.0\n",
            "        22              -7164263.070    595.235                257.5\n",
            "        23              -7163887.282    375.788                268.2\n",
            "        24              -7163646.954    240.328                279.5\n",
            "        25              -7163488.629    158.324                290.9\n",
            "        26              -7163380.185    108.445                301.6\n",
            "        27              -7163302.547     77.638                312.2\n",
            "        28              -7163244.173     58.373                336.9\n",
            "        29              -7163197.784     46.390                350.2\n",
            "        30              -7163158.507     39.277                365.6\n",
            "        31              -7163122.866     35.641                378.5\n",
            "        32              -7163088.290     34.575                391.4\n",
            "        33              -7163052.973     35.317                403.9\n",
            "        34              -7163015.929     37.044                415.7\n",
            "        35              -7162977.122     38.808                428.3\n",
            "        36              -7162937.409     39.713                441.1\n",
            "        37              -7162898.217     39.192                454.0\n",
            "        38              -7162861.110     37.107                467.0\n",
            "        39              -7162827.462     33.648                479.9\n",
            "        40              -7162798.242     29.219                492.8\n",
            "        41              -7162773.864     24.378                505.5\n",
            "        42              -7162754.257     19.607                517.3\n",
            "        43              -7162738.880     15.377                537.4\n",
            "        44              -7162727.037     11.843                551.9\n",
            "        45              -7162717.992      9.045                566.4\n",
            "        46              -7162711.089      6.903                581.1\n",
            "        47              -7162705.791      5.297                595.7\n",
            "        48              -7162701.687      4.105                614.8\n",
            "        49              -7162698.467      3.220                629.4\n",
            "        50              -7162695.906      2.561                643.9\n",
            "        51              -7162693.840      2.066                658.4\n",
            "        52              -7162692.152      1.688                673.0\n",
            "        53              -7162690.756      1.396                687.7\n",
            "        54              -7162689.588      1.168                702.3\n",
            "        55              -7162688.601      0.986                716.9\n",
            "        56              -7162687.762      0.840                731.6\n",
            "        57              -7162687.042      0.719                746.1\n",
            "        58              -7162686.422      0.620                760.7\n",
            "        59              -7162685.884      0.538                775.2\n",
            "        60              -7162685.416      0.468                789.9\n",
            "        61              -7162685.007      0.409                804.3\n",
            "        62              -7162684.649      0.358                818.8\n",
            "        63              -7162684.335      0.314                833.2\n",
            "        64              -7162684.058      0.277                847.6\n",
            "        65              -7162683.814      0.244                861.9\n",
            "        66              -7162683.598      0.216                876.3\n",
            "        67              -7162683.410      0.189                890.6\n",
            "        68              -7162683.232      0.177                904.9\n",
            "        69              -7162683.084      0.148                919.2\n",
            "        70              -7162682.951      0.133                933.5\n",
            "        71              -7162682.833      0.118                947.9\n",
            "        72              -7162682.729      0.105                962.2\n",
            "        73              -7162682.635      0.094                976.5\n",
            "        74              -7162682.551      0.084                990.8\n",
            "        75              -7162682.477      0.074               1005.1\n",
            "        76              -7162682.410      0.067               1019.5\n",
            "        77              -7162682.351      0.060               1033.8\n",
            "        78              -7162682.298      0.053               1048.4\n",
            "        79              -7162682.250      0.048               1062.7\n",
            "        80              -7162682.207      0.043               1077.4\n",
            "        81              -7162682.169      0.038               1091.7\n",
            "        82              -7162682.134      0.035               1106.0\n",
            "        83              -7162682.103      0.031               1120.3\n",
            "        84              -7162682.075      0.028               1134.6\n",
            "        85              -7162682.050      0.025               1148.8\n",
            "        86              -7162682.027      0.023               1163.2\n",
            "        87              -7162682.007      0.021               1177.5\n",
            "        88              -7162681.988      0.019               1191.8\n",
            "        89              -7162681.972      0.017               1206.1\n",
            "        90              -7162681.957      0.015               1224.0\n",
            "        91              -7162681.943      0.014               1238.3\n",
            "        92              -7162681.931      0.012               1252.7\n",
            "        93              -7162681.919      0.011               1267.0\n",
            "        94              -7162681.909      0.010               1281.3\n",
            "        95              -7162681.900      0.009               1295.8\n",
            "        96              -7162681.892      0.009               1310.2\n",
            "        97              -7162681.884      0.007               1324.6\n",
            "        98              -7162681.877      0.007               1338.8\n",
            "        99              -7162681.871      0.006               1353.2\n",
            "       100              -7162681.865      0.006               1367.5\n",
            "       101              -7162681.860      0.005               1381.8\n",
            "       102              -7162681.855      0.005               1396.2\n",
            "       103              -7162681.851      0.004               1410.5\n",
            "       104              -7162681.847      0.004               1424.8\n",
            "       105              -7162681.843      0.004               1439.2\n",
            "       106              -7162681.840      0.003               1453.4\n",
            "       107              -7162681.836      0.003               1467.8\n",
            "       108              -7162681.834      0.003               1482.1\n",
            "       109              -7162681.831      0.002               1496.3\n",
            "       110              -7162681.829      0.002               1510.7\n",
            "       111              -7162681.827      0.002               1525.0\n",
            "       112              -7162681.825      0.002               1539.3\n",
            "       113              -7162681.823      0.002               1553.7\n",
            "       114              -7162681.821      0.002               1568.1\n",
            "       115              -7162681.819      0.001               1582.5\n",
            "       116              -7162681.818      0.001               1596.9\n",
            "       117              -7162681.817      0.001               1611.2\n",
            "       118              -7162681.815      0.001               1625.6\n",
            "       119              -7162681.814      0.001               1639.9\n",
            "       120              -7162681.813      0.001               1654.3\n",
            "Writing to file /content/data/GM12878_10_segments.bed\n",
            "Writing to file /content/data/GM12878_10_dense.bed\n",
            "Writing to file /content/data/GM12878_10_expanded.bed\n",
            "Writing to file /content/data/GM12878_10_overlap.txt\n",
            "Writing to file /content/data/GM12878_10_overlap.png\n",
            "Writing to file /content/data/GM12878_10_overlap.svg\n",
            "Writing to file /content/data/GM12878_10_RefSeqTSS_neighborhood.txt\n",
            "Writing to file /content/data/GM12878_10_RefSeqTSS_neighborhood.png\n",
            "Writing to file /content/data/GM12878_10_RefSeqTSS_neighborhood.svg\n",
            "Writing to file /content/data/GM12878_10_RefSeqTES_neighborhood.txt\n",
            "Writing to file /content/data/GM12878_10_RefSeqTES_neighborhood.png\n",
            "Writing to file /content/data/GM12878_10_RefSeqTES_neighborhood.svg\n",
            "Warning could not automatically open in a browser /content/data/webpage_10.html\n"
          ]
        }
      ]
    },
    {
      "cell_type": "markdown",
      "source": [
        "В результате выполнения команды LearnModel будет создан набор файлов (в том числе HTML страничка) в папке выдачи, которая была указана при запуске. Скачиваем эту папку себе на копьютер и открываем HTML файл.\n",
        "\n",
        "Дальнейшие инстркции -- см. в описании ДЗ"
      ],
      "metadata": {
        "id": "7yuCmmw-gsFC"
      }
    },
    {
      "cell_type": "code",
      "source": [
        "!zip -r /content/data.zip /content/data"
      ],
      "metadata": {
        "colab": {
          "base_uri": "https://localhost:8080/"
        },
        "id": "jbPvd6wFEOA-",
        "outputId": "050e8fca-74fe-433d-b819-edd74f664e35"
      },
      "execution_count": null,
      "outputs": [
        {
          "output_type": "stream",
          "name": "stdout",
          "text": [
            "  adding: content/data/ (stored 0%)\n",
            "  adding: content/data/GM12878_10_RefSeqTSS_neighborhood.txt (deflated 52%)\n",
            "  adding: content/data/GM12878_10_RefSeqTSS_neighborhood.png (deflated 33%)\n",
            "  adding: content/data/GM12878_10_dense.bed (deflated 84%)\n",
            "  adding: content/data/transitions_10.svg (deflated 68%)\n",
            "  adding: content/data/GM12878_10_RefSeqTSS_neighborhood.svg (deflated 73%)\n",
            "  adding: content/data/GM12878_10_overlap.svg (deflated 70%)\n",
            "  adding: content/data/GM12878_10_RefSeqTES_neighborhood.png (deflated 35%)\n",
            "  adding: content/data/GM12878_10_overlap.txt (deflated 47%)\n",
            "  adding: content/data/emissions_10.svg (deflated 70%)\n",
            "  adding: content/data/GM12878_10_segments.bed (deflated 80%)\n",
            "  adding: content/data/GM12878_10_RefSeqTES_neighborhood.txt (deflated 57%)\n",
            "  adding: content/data/GM12878_10_expanded.bed (deflated 70%)\n",
            "  adding: content/data/transitions_10.png (deflated 16%)\n",
            "  adding: content/data/webpage_10.html (deflated 72%)\n",
            "  adding: content/data/transitions_10.txt (deflated 49%)\n",
            "  adding: content/data/GM12878_10_RefSeqTES_neighborhood.svg (deflated 73%)\n",
            "  adding: content/data/emissions_10.png (deflated 22%)\n",
            "  adding: content/data/emissions_10.txt (deflated 49%)\n",
            "  adding: content/data/model_10.txt (deflated 71%)\n",
            "  adding: content/data/GM12878_10_overlap.png (deflated 19%)\n"
          ]
        }
      ]
    },
    {
      "cell_type": "code",
      "source": [
        "from google.colab import files\n",
        "files.download('new_dense.bed')"
      ],
      "metadata": {
        "colab": {
          "base_uri": "https://localhost:8080/",
          "height": 17
        },
        "id": "6vpSIZWgEyad",
        "outputId": "3db43754-ddfa-4c9e-e348-88e9874e90d1"
      },
      "execution_count": 5,
      "outputs": [
        {
          "output_type": "display_data",
          "data": {
            "text/plain": [
              "<IPython.core.display.Javascript object>"
            ],
            "application/javascript": [
              "\n",
              "    async function download(id, filename, size) {\n",
              "      if (!google.colab.kernel.accessAllowed) {\n",
              "        return;\n",
              "      }\n",
              "      const div = document.createElement('div');\n",
              "      const label = document.createElement('label');\n",
              "      label.textContent = `Downloading \"${filename}\": `;\n",
              "      div.appendChild(label);\n",
              "      const progress = document.createElement('progress');\n",
              "      progress.max = size;\n",
              "      div.appendChild(progress);\n",
              "      document.body.appendChild(div);\n",
              "\n",
              "      const buffers = [];\n",
              "      let downloaded = 0;\n",
              "\n",
              "      const channel = await google.colab.kernel.comms.open(id);\n",
              "      // Send a message to notify the kernel that we're ready.\n",
              "      channel.send({})\n",
              "\n",
              "      for await (const message of channel.messages) {\n",
              "        // Send a message to notify the kernel that we're ready.\n",
              "        channel.send({})\n",
              "        if (message.buffers) {\n",
              "          for (const buffer of message.buffers) {\n",
              "            buffers.push(buffer);\n",
              "            downloaded += buffer.byteLength;\n",
              "            progress.value = downloaded;\n",
              "          }\n",
              "        }\n",
              "      }\n",
              "      const blob = new Blob(buffers, {type: 'application/binary'});\n",
              "      const a = document.createElement('a');\n",
              "      a.href = window.URL.createObjectURL(blob);\n",
              "      a.download = filename;\n",
              "      div.appendChild(a);\n",
              "      a.click();\n",
              "      div.remove();\n",
              "    }\n",
              "  "
            ]
          },
          "metadata": {}
        },
        {
          "output_type": "display_data",
          "data": {
            "text/plain": [
              "<IPython.core.display.Javascript object>"
            ],
            "application/javascript": [
              "download(\"download_19bd7a0e-8cd7-4264-bef5-a14728000683\", \"new_dense.bed\", 30622023)"
            ]
          },
          "metadata": {}
        }
      ]
    },
    {
      "cell_type": "markdown",
      "source": [
        "## Бонус"
      ],
      "metadata": {
        "id": "KzZkAp6CqDpe"
      }
    },
    {
      "cell_type": "markdown",
      "source": [
        "Обработаем GM12878_10_dense.bed"
      ],
      "metadata": {
        "id": "cGrkvCQdSvmS"
      }
    },
    {
      "cell_type": "code",
      "source": [
        "types = [\"1_Weak_Enhancer\", \"2_Weak_Enhancer\", \"3_Active_Promoter\", \"4_Strong_Enhancer\", \"5_Active_Promoter\", \\\n",
        "         \"6_Strong_Enhancer\", \"7_Weak_Enhancer\", \"8_Transcriptional_Elongation\", \"9_Repressed\", \"10_Heterochromatin\"]\n",
        "with open(\"new_dense.bed\", \"a+\") as new_f:\n",
        "  with open(\"/content/data/GM12878_10_dense.bed\") as f:\n",
        "    flag = True\n",
        "    for line in f:\n",
        "      if flag:\n",
        "        new_f.write(line)\n",
        "        flag = False\n",
        "        continue\n",
        "      s = line.split(\"\\t\")\n",
        "      s[3] = types[int(s[3]) - 1]\n",
        "      new_f.write(\"\\t\".join(s))"
      ],
      "metadata": {
        "id": "jjF5RZiqE2zP"
      },
      "execution_count": 4,
      "outputs": []
    },
    {
      "cell_type": "code",
      "source": [],
      "metadata": {
        "id": "zR6klfLgYIp4"
      },
      "execution_count": null,
      "outputs": []
    }
  ]
}